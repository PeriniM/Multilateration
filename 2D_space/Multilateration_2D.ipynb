{
  "nbformat": 4,
  "nbformat_minor": 0,
  "metadata": {
    "colab": {
      "provenance": [],
      "collapsed_sections": [
        "_vtFN_2OJBgC"
      ],
      "authorship_tag": "ABX9TyMFg5/Tp1KLW0wr/VhdtpSl",
      "include_colab_link": true
    },
    "kernelspec": {
      "name": "python3",
      "display_name": "Python 3"
    },
    "language_info": {
      "name": "python"
    }
  },
  "cells": [
    {
      "cell_type": "markdown",
      "metadata": {
        "id": "view-in-github",
        "colab_type": "text"
      },
      "source": [
        "<a href=\"https://colab.research.google.com/github/PeriniM/Multilateration/blob/main/Multilateration_2D.ipynb\" target=\"_parent\"><img src=\"https://colab.research.google.com/assets/colab-badge.svg\" alt=\"Open In Colab\"/></a>"
      ]
    },
    {
      "cell_type": "code",
      "execution_count": null,
      "metadata": {
        "id": "rNSUQnZq2KaK"
      },
      "outputs": [],
      "source": [
        "%reset -f\n",
        "from scipy.optimize import fsolve\n",
        "import random as rnd\n",
        "import matplotlib.pyplot as plt\n",
        "plt.style.use('seaborn-whitegrid')\n",
        "import numpy as np\n",
        "import pandas as pd\n",
        "from google.colab import files"
      ]
    },
    {
      "cell_type": "code",
      "source": [
        "x1, y1, x2_gen, y2_gen, x3_gen, y3_gen, x4_gen, y4_gen, x5_gen, y5_gen = (rnd.SystemRandom().random() for x in range(10))"
      ],
      "metadata": {
        "id": "IirSnbvwK6cx"
      },
      "execution_count": null,
      "outputs": []
    },
    {
      "cell_type": "markdown",
      "source": [
        "# Multirateration 4 points in a plane (1 known)"
      ],
      "metadata": {
        "id": "iyQ1XtZO5OIS"
      }
    },
    {
      "cell_type": "code",
      "source": [
        "plt.plot([x1, x2_gen, x3_gen, x4_gen], [y1, y2_gen, y3_gen, y4_gen], 'o', color='black');"
      ],
      "metadata": {
        "colab": {
          "base_uri": "https://localhost:8080/",
          "height": 262
        },
        "id": "E2adlB4n5MdU",
        "outputId": "59098d18-cbd3-4cdf-f252-935e0fba852b"
      },
      "execution_count": null,
      "outputs": [
        {
          "output_type": "display_data",
          "data": {
            "text/plain": [
              "<Figure size 432x288 with 1 Axes>"
            ],
            "image/png": "[encoded data removed]"
          },
          "metadata": {}
        }
      ]
    },
    {
      "cell_type": "code",
      "source": [
        "d12 = np.sqrt((x1-x2_gen)**2 + (y1-y2_gen)**2)\n",
        "d13 = np.sqrt((x1-x3_gen)**2 + (y1-y3_gen)**2)\n",
        "d14 = np.sqrt((x1-x4_gen)**2 + (y1-y4_gen)**2)\n",
        "d23 = np.sqrt((x2_gen-x3_gen)**2 + (y2_gen-y3_gen)**2)\n",
        "d24 = np.sqrt((x2_gen-x4_gen)**2 + (y2_gen-y4_gen)**2)\n",
        "d34 = np.sqrt((x3_gen-x4_gen)**2 + (y3_gen-y4_gen)**2)"
      ],
      "metadata": {
        "id": "9WrKCdnRAhgw"
      },
      "execution_count": null,
      "outputs": []
    },
    {
      "cell_type": "code",
      "source": [
        "print(d12,d13,d14,d23,d24,d34, sep=\"\\n\")"
      ],
      "metadata": {
        "colab": {
          "base_uri": "https://localhost:8080/"
        },
        "id": "czBUKtD19hFk",
        "outputId": "be9aae20-eb53-4c71-a168-2932309e5d9e"
      },
      "execution_count": null,
      "outputs": [
        {
          "output_type": "stream",
          "name": "stdout",
          "text": [
            "0.4383522782028957\n",
            "0.7432427098009082\n",
            "0.05358215211972959\n",
            "0.6851613686097892\n",
            "0.39489583683257085\n",
            "0.6980268103479745\n"
          ]
        }
      ]
    },
    {
      "cell_type": "code",
      "source": [
        "cir1 = plt.Circle((x1, y1), d12,facecolor=\"none\", linewidth=0.5, edgecolor = 'red')\n",
        "cir2 = plt.Circle((x1, y1), d13,facecolor=\"none\", linewidth=0.5, edgecolor = 'red')\n",
        "cir3 = plt.Circle((x1, y1), d14,facecolor=\"none\", linewidth=0.5, edgecolor = 'red')\n",
        "cir4 = plt.Circle((x2_gen, y2_gen), d23,facecolor=\"none\", linewidth=0.5, edgecolor = 'green')\n",
        "cir5 = plt.Circle((x2_gen, y2_gen), d24,facecolor=\"none\", linewidth=0.5, edgecolor = 'green')\n",
        "cir6 = plt.Circle((x3_gen, y3_gen), d34,facecolor=\"none\", linewidth=0.5, edgecolor = 'blue')\n",
        "circles = [cir1, cir2, cir3, cir4, cir5, cir6]\n",
        "for i in circles:\n",
        "    plt.gca().add_patch(i)\n",
        "plt.axis(\"equal\")\n",
        "plt.plot(x1,y1, 'o', color='red');\n",
        "plt.plot([x2_gen, x3_gen, x4_gen], [y2_gen, y3_gen, y4_gen], 'o', color='black');"
      ],
      "metadata": {
        "id": "QSCzJcBwTr_w",
        "outputId": "858acd4b-eb9e-4a49-9b6c-0c65cc35469b",
        "colab": {
          "base_uri": "https://localhost:8080/",
          "height": 262
        }
      },
      "execution_count": null,
      "outputs": [
        {
          "output_type": "display_data",
          "data": {
            "text/plain": [
              "<Figure size 432x288 with 1 Axes>"
            ],
            "image/png": "[encoded data removed]"
          },
          "metadata": {}
        }
      ]
    },
    {
      "cell_type": "code",
      "source": [
        "def equations(vars): \n",
        "    x2, y2, x3, y3, x4, y4 = vars\n",
        "    eq1 = (x1-x2)**2 + (y1-y2)**2 - d12**2\n",
        "    eq2 = (x1-x3)**2 + (y1-y3)**2 - d13**2\n",
        "    eq3 = (x1-x4)**2 + (y1-y4)**2 - d14**2\n",
        "    eq4 = (x2-x3)**2 + (y2-y3)**2 - d23**2\n",
        "    eq5 = (x2-x4)**2 + (y2-y4)**2 - d24**2\n",
        "    eq6 = (x3-x4)**2 + (y3-y4)**2 - d34**2\n",
        "    return [eq1, eq2, eq3, eq4, eq5, eq6]"
      ],
      "metadata": {
        "id": "5RxZJscE2PWT"
      },
      "execution_count": null,
      "outputs": []
    },
    {
      "cell_type": "code",
      "source": [
        "\n",
        "x2, y2, x3, y3, x4, y4 =  fsolve(equations, [0.5,0.5,0.5,0.5,0.5,0.5])\n",
        "print(x2, y2, x3, y3, x4, y4, sep=\"\\n\")"
      ],
      "metadata": {
        "colab": {
          "base_uri": "https://localhost:8080/"
        },
        "id": "YrSk7Hjk2Q5L",
        "outputId": "e968ea33-e0ea-4d9b-b322-7e6fbfe3ace2"
      },
      "execution_count": null,
      "outputs": [
        {
          "output_type": "stream",
          "name": "stdout",
          "text": [
            "0.4534062961233107\n",
            "0.524177726316228\n",
            "0.1047212740383834\n",
            "0.682148635510294\n",
            "-0.10348857677893254\n",
            "0.7709748728348994\n"
          ]
        },
        {
          "output_type": "stream",
          "name": "stderr",
          "text": [
            "/usr/local/lib/python3.7/dist-packages/scipy/optimize/minpack.py:175: RuntimeWarning: The iteration is not making good progress, as measured by the \n",
            "  improvement from the last ten iterations.\n",
            "  warnings.warn(msg, RuntimeWarning)\n"
          ]
        }
      ]
    },
    {
      "cell_type": "code",
      "source": [
        "print(x1,y1, sep=\"\\n\")"
      ],
      "metadata": {
        "colab": {
          "base_uri": "https://localhost:8080/"
        },
        "id": "_Ah726POWEQM",
        "outputId": "913cf680-a245-4262-8038-946f27a42a84"
      },
      "execution_count": null,
      "outputs": [
        {
          "output_type": "stream",
          "name": "stdout",
          "text": [
            "0.33116723275746407\n",
            "0.8795259980742361\n"
          ]
        }
      ]
    },
    {
      "cell_type": "markdown",
      "source": [
        "***Actual positions vs predicted positions***"
      ],
      "metadata": {
        "id": "pZ9e1HYdUt7o"
      }
    },
    {
      "cell_type": "code",
      "source": [
        "plt.plot([x1, x2_gen, x3_gen, x4_gen], [y1, y2_gen, y3_gen, y4_gen], 'o', color='black'); # intial points\n",
        "plt.plot([x1, x2, x3, x4], [y1, y2, y3, y4], 'v', color='red'); # calculated points\n",
        "plt.plot([0.4907, -0.1821, 0.3197], [0.4713, 0.3420, 0.8272], 'v', color='green'); #solved with matlab fminsearch\n"
      ],
      "metadata": {
        "colab": {
          "base_uri": "https://localhost:8080/",
          "height": 262
        },
        "id": "jOmaXVJQ3sLY",
        "outputId": "19330720-b7af-4b11-d5e6-e8666cb09e46"
      },
      "execution_count": null,
      "outputs": [
        {
          "output_type": "display_data",
          "data": {
            "text/plain": [
              "<Figure size 432x288 with 1 Axes>"
            ],
            "image/png": "[encoded data removed]"
          },
          "metadata": {}
        }
      ]
    },
    {
      "cell_type": "markdown",
      "source": [
        "***Distance Error***"
      ],
      "metadata": {
        "id": "CzfmjJhIUpxW"
      }
    },
    {
      "cell_type": "markdown",
      "source": [
        "We notice that fsolve is able to give the correct distances to all the points but fails in the orientation"
      ],
      "metadata": {
        "id": "3Zt4_RaaXzeh"
      }
    },
    {
      "cell_type": "markdown",
      "source": [
        "The predicted positions differ from the actual ones"
      ],
      "metadata": {
        "id": "bMIhLspNaJxQ"
      }
    },
    {
      "cell_type": "code",
      "source": [
        "p1_err = np.sqrt((x1-x1)**2 + (y1-y1)**2)\n",
        "p2_err = np.sqrt((x2-x2_gen)**2 + (y2-y2_gen)**2)\n",
        "p3_err = np.sqrt((x3-x3_gen)**2 + (y3-y3_gen)**2)\n",
        "p4_err = np.sqrt((x4-x4_gen)**2 + (y4-y4_gen)**2)\n",
        "\n",
        "print(p1_err,p2_err,p3_err,p4_err, sep=\"\\n\")"
      ],
      "metadata": {
        "colab": {
          "base_uri": "https://localhost:8080/"
        },
        "id": "vutYH5BkWm9i",
        "outputId": "788be3ab-d27b-4fce-f4b8-858783d3c4cb"
      },
      "execution_count": null,
      "outputs": [
        {
          "output_type": "stream",
          "name": "stdout",
          "text": [
            "0.0\n",
            "0.16447403457279827\n",
            "0.0706211731357369\n",
            "0.04662855160577279\n"
          ]
        }
      ]
    },
    {
      "cell_type": "markdown",
      "source": [
        "# Multilateration 5 points in a plane (0 known, just relative positions)"
      ],
      "metadata": {
        "id": "_vtFN_2OJBgC"
      }
    },
    {
      "cell_type": "code",
      "source": [
        "x1_gen , y1_gen = (x1, y1)\n",
        "plt.plot([x1_gen, x2_gen, x3_gen, x4_gen, x5_gen], [y1_gen, y2_gen, y3_gen, y4_gen,y5_gen], 'o', color='black');\n"
      ],
      "metadata": {
        "colab": {
          "base_uri": "https://localhost:8080/",
          "height": 262
        },
        "id": "ysEF5ynoLTbr",
        "outputId": "d4cc9f23-493f-4c81-ef01-0b389fb40838"
      },
      "execution_count": null,
      "outputs": [
        {
          "output_type": "display_data",
          "data": {
            "text/plain": [
              "<Figure size 432x288 with 1 Axes>"
            ],
            "image/png": "[encoded data removed]"
          },
          "metadata": {}
        }
      ]
    },
    {
      "cell_type": "code",
      "source": [
        "d12 = np.sqrt((x1_gen-x2_gen)**2 + (y1_gen-y2_gen)**2)\n",
        "d13 = np.sqrt((x1_gen-x3_gen)**2 + (y1_gen-y3_gen)**2)\n",
        "d14 = np.sqrt((x1_gen-x4_gen)**2 + (y1_gen-y4_gen)**2)\n",
        "d23 = np.sqrt((x2_gen-x3_gen)**2 + (y2_gen-y3_gen)**2)\n",
        "d24 = np.sqrt((x2_gen-x4_gen)**2 + (y2_gen-y4_gen)**2)\n",
        "d34 = np.sqrt((x3_gen-x4_gen)**2 + (y3_gen-y4_gen)**2)\n",
        "\n",
        "d15 = np.sqrt((x1_gen-x5_gen)**2 + (y1_gen-y5_gen)**2)\n",
        "d25 = np.sqrt((x2_gen-x5_gen)**2 + (y2_gen-y5_gen)**2)\n",
        "d35 = np.sqrt((x3_gen-x5_gen)**2 + (y3_gen-y5_gen)**2)\n",
        "d45 = np.sqrt((x4_gen-x5_gen)**2 + (y4_gen-y5_gen)**2)"
      ],
      "metadata": {
        "id": "rCkdOU7_LcT5"
      },
      "execution_count": null,
      "outputs": []
    },
    {
      "cell_type": "code",
      "source": [
        "print(d12,d13,d14,d23,d24,d34,d15,d25,d35,d45, sep=\"\\n\")"
      ],
      "metadata": {
        "colab": {
          "base_uri": "https://localhost:8080/"
        },
        "id": "stljrG-fL_Ng",
        "outputId": "539a5923-a076-45b5-9411-5e2d5121ff24"
      },
      "execution_count": null,
      "outputs": [
        {
          "output_type": "stream",
          "name": "stdout",
          "text": [
            "4.838735314160689\n",
            "5.367060274722131\n",
            "2.0346344264635774\n",
            "1.8653768209964223\n",
            "5.669833008072849\n",
            "5.512430739067212\n",
            "7.337413314327337\n",
            "7.221194169699947\n",
            "5.5722866345514355\n",
            "5.769025085038334\n"
          ]
        }
      ]
    },
    {
      "cell_type": "code",
      "source": [
        "def equations(vars): \n",
        "    x1, y1, x2, y2, x3, y3, x4, y4, x5, y5 = vars\n",
        "    eq1 = (x1-x2)**2 + (y1-y2)**2 - d12**2\n",
        "    eq2 = (x1-x3)**2 + (y1-y3)**2 - d13**2\n",
        "    eq3 = (x1-x4)**2 + (y1-y4)**2 - d14**2\n",
        "\n",
        "    eq4 = (x2-x3)**2 + (y2-y3)**2 - d23**2\n",
        "    eq5 = (x2-x4)**2 + (y2-y4)**2 - d24**2\n",
        "\n",
        "    eq6 = (x3-x4)**2 + (y3-y4)**2 - d34**2\n",
        "\n",
        "    eq7 = (x1-x5)**2 + (y1-y5)**2 - d15**2\n",
        "    eq8 = (x2-x5)**2 + (y2-y5)**2 - d25**2\n",
        "    eq9 = (x3-x5)**2 + (y3-y5)**2 - d35**2\n",
        "    eq10 = (x4-x5)**2 + (y4-y5)**2 - d45**2\n",
        "    return [eq1, eq2, eq3, eq4, eq5, eq6, eq7, eq8, eq9, eq10]"
      ],
      "metadata": {
        "id": "3bjceOg8MFeA"
      },
      "execution_count": null,
      "outputs": []
    },
    {
      "cell_type": "code",
      "source": [
        "x1, y1, x2, y2, x3, y3, x4, y4, x5, y5 =  fsolve(equations, [1,1,1,1,1,1,1,1,1,1])\n",
        "\n",
        "print(x1, y1, x2, y2, x3, y3, x4, y4, x5, y5, sep=\"\\n\")"
      ],
      "metadata": {
        "colab": {
          "base_uri": "https://localhost:8080/"
        },
        "id": "EOOd5f0MOejv",
        "outputId": "ef0515d8-cf23-4a8f-d31f-298bbf5f27d5"
      },
      "execution_count": null,
      "outputs": [
        {
          "output_type": "stream",
          "name": "stdout",
          "text": [
            "-2.56486539255827\n",
            "-4.500143045979351\n",
            "2.0318414753028113\n",
            "-2.9889695245561536\n",
            "1.64027218343008\n",
            "-1.1651536966742404\n",
            "-3.633718025218855\n",
            "-2.7688743495939945\n",
            "-2.2439442978955606\n",
            "2.8302487441763136\n"
          ]
        }
      ]
    },
    {
      "cell_type": "code",
      "source": [
        "plt.plot([x1_gen, x2_gen, x3_gen, x4_gen, x5_gen], [y1_gen, y2_gen, y3_gen, y4_gen,y5_gen], 'o', color='black');\n",
        "plt.plot([x1, x2, x3, x4, x5], [y1, y2, y3, y4, y5], 'v', color='red'); # calculated points"
      ],
      "metadata": {
        "colab": {
          "base_uri": "https://localhost:8080/",
          "height": 262
        },
        "id": "gNxCbu4CQC2d",
        "outputId": "be56c6ed-a429-4d31-c530-b61011f635e5"
      },
      "execution_count": null,
      "outputs": [
        {
          "output_type": "display_data",
          "data": {
            "text/plain": [
              "<Figure size 432x288 with 1 Axes>"
            ],
            "image/png": "[encoded data removed]"
          },
          "metadata": {}
        }
      ]
    },
    {
      "cell_type": "markdown",
      "source": [
        "***Distance Error***"
      ],
      "metadata": {
        "id": "bq7MQLzab7pF"
      }
    },
    {
      "cell_type": "code",
      "source": [
        "p1_err = np.sqrt((x1-x1_gen)**2 + (y1-y1_gen)**2)\n",
        "p2_err = np.sqrt((x2-x2_gen)**2 + (y2-y2_gen)**2)\n",
        "p3_err = np.sqrt((x3-x3_gen)**2 + (y3-y3_gen)**2)\n",
        "p4_err = np.sqrt((x4-x4_gen)**2 + (y4-y4_gen)**2)\n",
        "p5_err = np.sqrt((x5-x5_gen)**2 + (y5-y5_gen)**2)\n",
        "\n",
        "print(p1_err,p2_err,p3_err,p4_err,p5_err, sep=\"\\n\")"
      ],
      "metadata": {
        "colab": {
          "base_uri": "https://localhost:8080/"
        },
        "outputId": "b29d8c8c-9ba2-4bac-af8d-da4e92b6ba55",
        "id": "Zj82-HhBcOIE"
      },
      "execution_count": null,
      "outputs": [
        {
          "output_type": "stream",
          "name": "stdout",
          "text": [
            "8.46855519606619\n",
            "8.479347800780262\n",
            "7.840873225415616\n",
            "10.367436506388056\n",
            "12.37580833528768\n"
          ]
        }
      ]
    },
    {
      "cell_type": "markdown",
      "source": [
        "# Multi Output Regression Model"
      ],
      "metadata": {
        "id": "3lNLLQ950Hxm"
      }
    },
    {
      "cell_type": "markdown",
      "source": [
        "##Creation of Dataset"
      ],
      "metadata": {
        "id": "F7n2TKxOASWS"
      }
    },
    {
      "cell_type": "code",
      "source": [
        "dim_dataset = 1000\n",
        "model_input = np.empty((dim_dataset, 8))\n",
        "model_output = np.empty((dim_dataset, 6))\n",
        "\n",
        "for sample in range(dim_dataset):\n",
        "  x1, y1, x2, y2, x3, y3, x4, y4 = (rnd.SystemRandom().random() for x in range(8))\n",
        "  d12 = np.sqrt((x1-x2)**2 + (y1-y2)**2)\n",
        "  d13 = np.sqrt((x1-x3)**2 + (y1-y3)**2)\n",
        "  d14 = np.sqrt((x1-x4)**2 + (y1-y4)**2)\n",
        "  d23 = np.sqrt((x2-x3)**2 + (y2-y3)**2)\n",
        "  d24 = np.sqrt((x2-x4)**2 + (y2-y4)**2)\n",
        "  d34 = np.sqrt((x3-x4)**2 + (y3-y4)**2)\n",
        "  model_input[sample][:] = [x1, y1, d12, d13, d14, d23, d24, d34]\n",
        "  model_output[sample][:] = [x2, x3, x4, y2, y3, y4]\n"
      ],
      "metadata": {
        "id": "o7LUdsAg0Pjp"
      },
      "execution_count": null,
      "outputs": []
    },
    {
      "cell_type": "code",
      "source": [
        "#it is not less than 1 because distances can be greater than 1 (diagonal for example)\n",
        "print(np.all(model_input<1.0))\n",
        "plt.plot(model_output[:, :3], model_output[:, 3:], 'o', color='black') # intial points"
      ],
      "metadata": {
        "colab": {
          "base_uri": "https://localhost:8080/",
          "height": 331
        },
        "id": "2uQ6Yp8QBCn4",
        "outputId": "48acd5c0-519a-4165-eb41-97ffcd9139fa"
      },
      "execution_count": null,
      "outputs": [
        {
          "output_type": "stream",
          "name": "stdout",
          "text": [
            "False\n"
          ]
        },
        {
          "output_type": "execute_result",
          "data": {
            "text/plain": [
              "[<matplotlib.lines.Line2D at 0x7f67d5ec4610>,\n",
              " <matplotlib.lines.Line2D at 0x7f67d5ec4850>,\n",
              " <matplotlib.lines.Line2D at 0x7f67d5ec4a10>]"
            ]
          },
          "metadata": {},
          "execution_count": 47
        },
        {
          "output_type": "display_data",
          "data": {
            "text/plain": [
              "<Figure size 432x288 with 1 Axes>"
            ],
            "image/png": "[encoded data removed]"
          },
          "metadata": {}
        }
      ]
    },
    {
      "cell_type": "markdown",
      "source": [
        "## Simple MLP"
      ],
      "metadata": {
        "id": "p4AaJDIa-Au7"
      }
    },
    {
      "cell_type": "code",
      "source": [
        "# use mlp for prediction on multi-output regression\n",
        "from numpy import asarray\n",
        "from sklearn.datasets import make_regression\n",
        "from sklearn.model_selection import train_test_split\n",
        "from keras.models import Sequential\n",
        "from keras.layers import Dense\n",
        "\n",
        "# get the model\n",
        "def get_model(in_dim, out_dim):\n",
        "  model = Sequential()\n",
        "  model.add(Dense(30, input_dim=in_dim, kernel_initializer='he_uniform', activation='selu'))\n",
        "  model.add(Dense(30, kernel_initializer='he_uniform', activation='selu'))\n",
        "  model.add(Dense(out_dim, kernel_initializer='he_uniform'))\n",
        "  model.compile(loss='mae', optimizer='adam')\n",
        "  model.summary()\n",
        "  return model\n",
        "\n",
        "x, y = (model_input, model_output)\n",
        "xtrain, xtest, ytrain, ytest=train_test_split(x, y, test_size=0.15)\n",
        "n_inputs, n_outputs = xtrain.shape[1], ytrain.shape[1]\n",
        "# get model\n",
        "model = get_model(n_inputs, n_outputs)\n",
        "# fit the model on all data\n",
        "model.fit(xtrain, ytrain, epochs=50, verbose=0)\n",
        "# make a prediction for new data\n",
        "x2pred = asarray([xtest[0,:]])\n",
        "ypred = model.predict(x2pred)\n",
        "print('Predicted: %s' % ypred[0])"
      ],
      "metadata": {
        "id": "o_LaTddH0WDd",
        "outputId": "d27ef36d-2f2c-4573-b0ed-adb53070c5c8",
        "colab": {
          "base_uri": "https://localhost:8080/"
        }
      },
      "execution_count": null,
      "outputs": [
        {
          "output_type": "stream",
          "name": "stdout",
          "text": [
            "Model: \"sequential_4\"\n",
            "_________________________________________________________________\n",
            " Layer (type)                Output Shape              Param #   \n",
            "=================================================================\n",
            " dense_12 (Dense)            (None, 30)                270       \n",
            "                                                                 \n",
            " dense_13 (Dense)            (None, 30)                930       \n",
            "                                                                 \n",
            " dense_14 (Dense)            (None, 6)                 186       \n",
            "                                                                 \n",
            "=================================================================\n",
            "Total params: 1,386\n",
            "Trainable params: 1,386\n",
            "Non-trainable params: 0\n",
            "_________________________________________________________________\n",
            "Predicted: [0.3803451  0.6506705  0.4038455  0.6411467  0.32125878 0.5335997 ]\n"
          ]
        }
      ]
    },
    {
      "cell_type": "code",
      "source": [
        "plt.plot(ytest[0, :3], ytest[0, 3:], 'o', color='black') # intial points\n",
        "plt.plot(ypred[0, :3], ypred[0, 3:], 'v', color='red') # calculated points"
      ],
      "metadata": {
        "id": "FbhGVaWYBV9D",
        "outputId": "fc560a99-2aa5-4618-e9c9-03864823734a",
        "colab": {
          "base_uri": "https://localhost:8080/",
          "height": 279
        }
      },
      "execution_count": null,
      "outputs": [
        {
          "output_type": "execute_result",
          "data": {
            "text/plain": [
              "[<matplotlib.lines.Line2D at 0x7f67cfc66990>]"
            ]
          },
          "metadata": {},
          "execution_count": 51
        },
        {
          "output_type": "display_data",
          "data": {
            "text/plain": [
              "<Figure size 432x288 with 1 Axes>"
            ],
            "image/png": "[encoded data removed]"
          },
          "metadata": {}
        }
      ]
    },
    {
      "cell_type": "markdown",
      "source": [
        "## LSTM model"
      ],
      "metadata": {
        "id": "KTGWphuB-N_l"
      }
    },
    {
      "cell_type": "code",
      "source": [
        "from keras.models import Sequential\n",
        "from keras.layers import Dense, LSTM\n",
        "from numpy import array\n",
        "from numpy.random import uniform\n",
        "from numpy import hstack\n",
        "import matplotlib.pyplot as plt\n",
        "from sklearn.model_selection import train_test_split\n",
        "from sklearn.metrics import mean_squared_error\n",
        "\n",
        "# get the model\n",
        "def get_model(in_dim, out_dim):\n",
        "  model = Sequential()\n",
        "  model.add(LSTM(64, input_shape=in_dim, activation=\"relu\",return_sequences=True))\n",
        "  model.add(LSTM(32, activation=\"relu\",return_sequences=True))\n",
        "  model.add(LSTM(16, activation=\"relu\"))\n",
        "  model.add(Dense(out_dim))\n",
        "  model.compile(loss=\"mse\", optimizer=\"adam\")\n",
        "  model.summary()\n",
        "  return model\n",
        "\n",
        "x, y = model_input, model_output\n",
        "#reshape the input to match the size of lstm\n",
        "x = x.reshape(x.shape[0], x.shape[1], 1)\n",
        "print(\"x shape:\", x.shape, \"y shape:\", y.shape)\n",
        "\n",
        "in_dim = (x.shape[1], x.shape[2])\n",
        "out_dim = y.shape[1]\n",
        "\n",
        "xtrain, xtest, ytrain, ytest=train_test_split(x, y, test_size=0.15)\n",
        "print(\"xtrain:\", xtrain.shape, \"ytrian:\", ytrain.shape)\n",
        "\n",
        "model = get_model(in_dim, out_dim)\n",
        "model.fit(xtrain, ytrain, epochs=10, batch_size=2, verbose=0)\n",
        "\n",
        "ypred = model.predict(xtest)\n",
        "print(\"y1 MSE:%.4f\" % mean_squared_error(ytest[:,0], ypred[:,0]))\n",
        "print(\"y2 MSE:%.4f\" % mean_squared_error(ytest[:,1], ypred[:,1]))"
      ],
      "metadata": {
        "colab": {
          "base_uri": "https://localhost:8080/"
        },
        "id": "bi5f9K6L-WP3",
        "outputId": "01aac2f1-83d1-4510-b7cc-152f38a65adb"
      },
      "execution_count": null,
      "outputs": [
        {
          "output_type": "stream",
          "name": "stdout",
          "text": [
            "x shape: (1000, 8, 1) y shape: (1000, 6)\n",
            "xtrain: (850, 8, 1) ytrian: (850, 6)\n",
            "Model: \"sequential_5\"\n",
            "_________________________________________________________________\n",
            " Layer (type)                Output Shape              Param #   \n",
            "=================================================================\n",
            " lstm (LSTM)                 (None, 8, 64)             16896     \n",
            "                                                                 \n",
            " lstm_1 (LSTM)               (None, 8, 32)             12416     \n",
            "                                                                 \n",
            " lstm_2 (LSTM)               (None, 16)                3136      \n",
            "                                                                 \n",
            " dense_15 (Dense)            (None, 6)                 102       \n",
            "                                                                 \n",
            "=================================================================\n",
            "Total params: 32,550\n",
            "Trainable params: 32,550\n",
            "Non-trainable params: 0\n",
            "_________________________________________________________________\n",
            "y1 MSE:0.0846\n",
            "y2 MSE:0.0796\n"
          ]
        }
      ]
    },
    {
      "cell_type": "code",
      "source": [
        "plt.plot(ytest[0][:3], ytest[0][3:], 'o', color='black') # intial points\n",
        "plt.plot(ypred[0][:3], ypred[0][3:], 'v', color='red') # calculated points"
      ],
      "metadata": {
        "colab": {
          "base_uri": "https://localhost:8080/",
          "height": 280
        },
        "id": "OpOlvi-LIE57",
        "outputId": "5fa14ad5-3f3e-449b-8407-95bf0febdf3c"
      },
      "execution_count": null,
      "outputs": [
        {
          "output_type": "execute_result",
          "data": {
            "text/plain": [
              "[<matplotlib.lines.Line2D at 0x7f67ce449490>]"
            ]
          },
          "metadata": {},
          "execution_count": 53
        },
        {
          "output_type": "display_data",
          "data": {
            "text/plain": [
              "<Figure size 432x288 with 1 Axes>"
            ],
            "image/png": "[encoded data removed]"
          },
          "metadata": {}
        }
      ]
    },
    {
      "cell_type": "markdown",
      "source": [
        "As you can see the poins are not well predicted (also because there are infinite solutions)"
      ],
      "metadata": {
        "id": "jV2jQT6xYdDk"
      }
    }
  ]
}