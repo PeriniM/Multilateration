{
  "nbformat": 4,
  "nbformat_minor": 0,
  "metadata": {
    "colab": {
      "provenance": [],
      "collapsed_sections": [
        "_vtFN_2OJBgC"
      ],
      "authorship_tag": "ABX9TyNBa1egUiAz0TyUBFxxczLm",
      "include_colab_link": true
    },
    "kernelspec": {
      "name": "python3",
      "display_name": "Python 3"
    },
    "language_info": {
      "name": "python"
    }
  },
  "cells": [
    {
      "cell_type": "markdown",
      "metadata": {
        "id": "view-in-github",
        "colab_type": "text"
      },
      "source": [
        "<a href=\"https://colab.research.google.com/github/PeriniM/Multilateration/blob/main/2D_space/Multilateration_2D.ipynb\" target=\"_parent\"><img src=\"https://colab.research.google.com/assets/colab-badge.svg\" alt=\"Open In Colab\"/></a>"
      ]
    },
    {
      "cell_type": "code",
      "execution_count": 3,
      "metadata": {
        "id": "rNSUQnZq2KaK"
      },
      "outputs": [],
      "source": [
        "%reset -f\n",
        "from scipy.optimize import fsolve\n",
        "import random as rnd\n",
        "import matplotlib.pyplot as plt\n",
        "plt.style.use('seaborn-whitegrid')\n",
        "import numpy as np\n",
        "import pandas as pd\n",
        "from google.colab import files"
      ]
    },
    {
      "cell_type": "code",
      "source": [
        "x1, y1, x2_gen, y2_gen, x3_gen, y3_gen, x4_gen, y4_gen, x5_gen, y5_gen = (rnd.SystemRandom().random() for x in range(10))"
      ],
      "metadata": {
        "id": "IirSnbvwK6cx"
      },
      "execution_count": null,
      "outputs": []
    },
    {
      "cell_type": "markdown",
      "source": [
        "# Multirateration 4 points in a plane (1 known)"
      ],
      "metadata": {
        "id": "iyQ1XtZO5OIS"
      }
    },
    {
      "cell_type": "code",
      "source": [
        "plt.plot([x1, x2_gen, x3_gen, x4_gen], [y1, y2_gen, y3_gen, y4_gen], 'o', color='black');"
      ],
      "metadata": {
        "colab": {
          "base_uri": "https://localhost:8080/",
          "height": 262
        },
        "id": "E2adlB4n5MdU",
        "outputId": "85614e5d-f01f-4947-a604-b4bdb17418bc"
      },
      "execution_count": null,
      "outputs": [
        {
          "output_type": "display_data",
          "data": {
            "text/plain": [
              "<Figure size 432x288 with 1 Axes>"
            ],
            "image/png": "[encoded data removed]"
          },
          "metadata": {}
        }
      ]
    },
    {
      "cell_type": "code",
      "source": [
        "d12 = np.sqrt((x1-x2_gen)**2 + (y1-y2_gen)**2)\n",
        "d13 = np.sqrt((x1-x3_gen)**2 + (y1-y3_gen)**2)\n",
        "d14 = np.sqrt((x1-x4_gen)**2 + (y1-y4_gen)**2)\n",
        "d23 = np.sqrt((x2_gen-x3_gen)**2 + (y2_gen-y3_gen)**2)\n",
        "d24 = np.sqrt((x2_gen-x4_gen)**2 + (y2_gen-y4_gen)**2)\n",
        "d34 = np.sqrt((x3_gen-x4_gen)**2 + (y3_gen-y4_gen)**2)"
      ],
      "metadata": {
        "id": "9WrKCdnRAhgw"
      },
      "execution_count": null,
      "outputs": []
    },
    {
      "cell_type": "code",
      "source": [
        "print(d12,d13,d14,d23,d24,d34, sep=\"\\n\")"
      ],
      "metadata": {
        "colab": {
          "base_uri": "https://localhost:8080/"
        },
        "id": "czBUKtD19hFk",
        "outputId": "fccd5981-34f0-4318-af05-1899df1dc259"
      },
      "execution_count": null,
      "outputs": [
        {
          "output_type": "stream",
          "name": "stdout",
          "text": [
            "0.3787671287745669\n",
            "0.7076632797016484\n",
            "0.09444052413899866\n",
            "0.46428466111849837\n",
            "0.28791691148971427\n",
            "0.621926166047313\n"
          ]
        }
      ]
    },
    {
      "cell_type": "code",
      "source": [
        "def equations(vars): \n",
        "    x2, y2, x3, y3, x4, y4 = vars\n",
        "    eq1 = (x1-x2)**2 + (y1-y2)**2 - d12**2\n",
        "    eq2 = (x1-x3)**2 + (y1-y3)**2 - d13**2\n",
        "    eq3 = (x1-x4)**2 + (y1-y4)**2 - d14**2\n",
        "\n",
        "    eq4 = (x2-x3)**2 + (y2-y3)**2 - d23**2\n",
        "    eq5 = (x2-x4)**2 + (y2-y4)**2 - d24**2\n",
        "\n",
        "    eq6 = (x3-x4)**2 + (y3-y4)**2 - d34**2\n",
        "    return [eq1, eq2, eq3, eq4, eq5, eq6]"
      ],
      "metadata": {
        "id": "5RxZJscE2PWT"
      },
      "execution_count": null,
      "outputs": []
    },
    {
      "cell_type": "code",
      "source": [
        "\n",
        "x2, y2, x3, y3, x4, y4 =  fsolve(equations, [1,1,1,1,1,1])\n",
        "\n",
        "print(x2, y2, x3, y3, x4, y4, sep=\"\\n\")"
      ],
      "metadata": {
        "colab": {
          "base_uri": "https://localhost:8080/"
        },
        "id": "YrSk7Hjk2Q5L",
        "outputId": "e78da814-4e76-4ca5-c781-285b97c41400"
      },
      "execution_count": null,
      "outputs": [
        {
          "output_type": "stream",
          "name": "stdout",
          "text": [
            "0.5289068402785307\n",
            "0.7160187954495235\n",
            "0.7152776673627304\n",
            "1.1412553900348044\n",
            "0.2418280825955082\n",
            "0.7379718090332105\n"
          ]
        }
      ]
    },
    {
      "cell_type": "markdown",
      "source": [
        "***Actual positions vs predicted positions***"
      ],
      "metadata": {
        "id": "pZ9e1HYdUt7o"
      }
    },
    {
      "cell_type": "code",
      "source": [
        "plt.plot([x1, x2_gen, x3_gen, x4_gen], [y1, y2_gen, y3_gen, y4_gen], 'o', color='black'); # intial points\n",
        "plt.plot([x1, x2, x3, x4], [y1, y2, y3, y4], 'v', color='red'); # calculated points"
      ],
      "metadata": {
        "colab": {
          "base_uri": "https://localhost:8080/",
          "height": 262
        },
        "id": "jOmaXVJQ3sLY",
        "outputId": "55264660-100a-4fa5-e89f-72ae6aa185d1"
      },
      "execution_count": null,
      "outputs": [
        {
          "output_type": "display_data",
          "data": {
            "text/plain": [
              "<Figure size 432x288 with 1 Axes>"
            ],
            "image/png": "[encoded data removed]"
          },
          "metadata": {}
        }
      ]
    },
    {
      "cell_type": "markdown",
      "source": [
        "***Distance Error***"
      ],
      "metadata": {
        "id": "CzfmjJhIUpxW"
      }
    },
    {
      "cell_type": "markdown",
      "source": [
        "We notice that fsolve is able to give the correct distances to all the points but fails in the orientation"
      ],
      "metadata": {
        "id": "3Zt4_RaaXzeh"
      }
    },
    {
      "cell_type": "markdown",
      "source": [
        "The predicted positions differ from the actual ones"
      ],
      "metadata": {
        "id": "bMIhLspNaJxQ"
      }
    },
    {
      "cell_type": "code",
      "source": [
        "p1_err = np.sqrt((x1-x1)**2 + (y1-y1)**2)\n",
        "p2_err = np.sqrt((x2-x2_gen)**2 + (y2-y2_gen)**2)\n",
        "p3_err = np.sqrt((x3-x3_gen)**2 + (y3-y3_gen)**2)\n",
        "p4_err = np.sqrt((x4-x4_gen)**2 + (y4-y4_gen)**2)\n",
        "\n",
        "print(p1_err,p2_err,p3_err,p4_err, sep=\"\\n\")"
      ],
      "metadata": {
        "colab": {
          "base_uri": "https://localhost:8080/"
        },
        "id": "vutYH5BkWm9i",
        "outputId": "82cf74bf-480d-461d-bedc-d11cd5cb4f39"
      },
      "execution_count": null,
      "outputs": [
        {
          "output_type": "stream",
          "name": "stdout",
          "text": [
            "0.0\n",
            "0.4017514962673924\n",
            "1.3206914353189967\n",
            "0.13539458639200305\n"
          ]
        }
      ]
    },
    {
      "cell_type": "markdown",
      "source": [
        "# Multilateration 5 points in a plane (0 known, just relative positions)"
      ],
      "metadata": {
        "id": "_vtFN_2OJBgC"
      }
    },
    {
      "cell_type": "code",
      "source": [
        "x1_gen , y1_gen = (x1, y1)\n",
        "plt.plot([x1_gen, x2_gen, x3_gen, x4_gen, x5_gen], [y1_gen, y2_gen, y3_gen, y4_gen,y5_gen], 'o', color='black');\n"
      ],
      "metadata": {
        "colab": {
          "base_uri": "https://localhost:8080/",
          "height": 262
        },
        "id": "ysEF5ynoLTbr",
        "outputId": "d4cc9f23-493f-4c81-ef01-0b389fb40838"
      },
      "execution_count": null,
      "outputs": [
        {
          "output_type": "display_data",
          "data": {
            "text/plain": [
              "<Figure size 432x288 with 1 Axes>"
            ],
            "image/png": "[encoded data removed]"
          },
          "metadata": {}
        }
      ]
    },
    {
      "cell_type": "code",
      "source": [
        "d12 = np.sqrt((x1_gen-x2_gen)**2 + (y1_gen-y2_gen)**2)\n",
        "d13 = np.sqrt((x1_gen-x3_gen)**2 + (y1_gen-y3_gen)**2)\n",
        "d14 = np.sqrt((x1_gen-x4_gen)**2 + (y1_gen-y4_gen)**2)\n",
        "d23 = np.sqrt((x2_gen-x3_gen)**2 + (y2_gen-y3_gen)**2)\n",
        "d24 = np.sqrt((x2_gen-x4_gen)**2 + (y2_gen-y4_gen)**2)\n",
        "d34 = np.sqrt((x3_gen-x4_gen)**2 + (y3_gen-y4_gen)**2)\n",
        "\n",
        "d15 = np.sqrt((x1_gen-x5_gen)**2 + (y1_gen-y5_gen)**2)\n",
        "d25 = np.sqrt((x2_gen-x5_gen)**2 + (y2_gen-y5_gen)**2)\n",
        "d35 = np.sqrt((x3_gen-x5_gen)**2 + (y3_gen-y5_gen)**2)\n",
        "d45 = np.sqrt((x4_gen-x5_gen)**2 + (y4_gen-y5_gen)**2)"
      ],
      "metadata": {
        "id": "rCkdOU7_LcT5"
      },
      "execution_count": null,
      "outputs": []
    },
    {
      "cell_type": "code",
      "source": [
        "print(d12,d13,d14,d23,d24,d34,d15,d25,d35,d45, sep=\"\\n\")"
      ],
      "metadata": {
        "colab": {
          "base_uri": "https://localhost:8080/"
        },
        "id": "stljrG-fL_Ng",
        "outputId": "539a5923-a076-45b5-9411-5e2d5121ff24"
      },
      "execution_count": null,
      "outputs": [
        {
          "output_type": "stream",
          "name": "stdout",
          "text": [
            "4.838735314160689\n",
            "5.367060274722131\n",
            "2.0346344264635774\n",
            "1.8653768209964223\n",
            "5.669833008072849\n",
            "5.512430739067212\n",
            "7.337413314327337\n",
            "7.221194169699947\n",
            "5.5722866345514355\n",
            "5.769025085038334\n"
          ]
        }
      ]
    },
    {
      "cell_type": "code",
      "source": [
        "def equations(vars): \n",
        "    x1, y1, x2, y2, x3, y3, x4, y4, x5, y5 = vars\n",
        "    eq1 = (x1-x2)**2 + (y1-y2)**2 - d12**2\n",
        "    eq2 = (x1-x3)**2 + (y1-y3)**2 - d13**2\n",
        "    eq3 = (x1-x4)**2 + (y1-y4)**2 - d14**2\n",
        "\n",
        "    eq4 = (x2-x3)**2 + (y2-y3)**2 - d23**2\n",
        "    eq5 = (x2-x4)**2 + (y2-y4)**2 - d24**2\n",
        "\n",
        "    eq6 = (x3-x4)**2 + (y3-y4)**2 - d34**2\n",
        "\n",
        "    eq7 = (x1-x5)**2 + (y1-y5)**2 - d15**2\n",
        "    eq8 = (x2-x5)**2 + (y2-y5)**2 - d25**2\n",
        "    eq9 = (x3-x5)**2 + (y3-y5)**2 - d35**2\n",
        "    eq10 = (x4-x5)**2 + (y4-y5)**2 - d45**2\n",
        "    return [eq1, eq2, eq3, eq4, eq5, eq6, eq7, eq8, eq9, eq10]"
      ],
      "metadata": {
        "id": "3bjceOg8MFeA"
      },
      "execution_count": null,
      "outputs": []
    },
    {
      "cell_type": "code",
      "source": [
        "x1, y1, x2, y2, x3, y3, x4, y4, x5, y5 =  fsolve(equations, [1,1,1,1,1,1,1,1,1,1])\n",
        "\n",
        "print(x1, y1, x2, y2, x3, y3, x4, y4, x5, y5, sep=\"\\n\")"
      ],
      "metadata": {
        "colab": {
          "base_uri": "https://localhost:8080/"
        },
        "id": "EOOd5f0MOejv",
        "outputId": "ef0515d8-cf23-4a8f-d31f-298bbf5f27d5"
      },
      "execution_count": null,
      "outputs": [
        {
          "output_type": "stream",
          "name": "stdout",
          "text": [
            "-2.56486539255827\n",
            "-4.500143045979351\n",
            "2.0318414753028113\n",
            "-2.9889695245561536\n",
            "1.64027218343008\n",
            "-1.1651536966742404\n",
            "-3.633718025218855\n",
            "-2.7688743495939945\n",
            "-2.2439442978955606\n",
            "2.8302487441763136\n"
          ]
        }
      ]
    },
    {
      "cell_type": "code",
      "source": [
        "plt.plot([x1_gen, x2_gen, x3_gen, x4_gen, x5_gen], [y1_gen, y2_gen, y3_gen, y4_gen,y5_gen], 'o', color='black');\n",
        "plt.plot([x1, x2, x3, x4, x5], [y1, y2, y3, y4, y5], 'v', color='red'); # calculated points"
      ],
      "metadata": {
        "colab": {
          "base_uri": "https://localhost:8080/",
          "height": 262
        },
        "id": "gNxCbu4CQC2d",
        "outputId": "be56c6ed-a429-4d31-c530-b61011f635e5"
      },
      "execution_count": null,
      "outputs": [
        {
          "output_type": "display_data",
          "data": {
            "text/plain": [
              "<Figure size 432x288 with 1 Axes>"
            ],
            "image/png": "[encoded data removed]"
          },
          "metadata": {}
        }
      ]
    },
    {
      "cell_type": "markdown",
      "source": [
        "***Distance Error***"
      ],
      "metadata": {
        "id": "bq7MQLzab7pF"
      }
    },
    {
      "cell_type": "code",
      "source": [
        "p1_err = np.sqrt((x1-x1_gen)**2 + (y1-y1_gen)**2)\n",
        "p2_err = np.sqrt((x2-x2_gen)**2 + (y2-y2_gen)**2)\n",
        "p3_err = np.sqrt((x3-x3_gen)**2 + (y3-y3_gen)**2)\n",
        "p4_err = np.sqrt((x4-x4_gen)**2 + (y4-y4_gen)**2)\n",
        "p5_err = np.sqrt((x5-x5_gen)**2 + (y5-y5_gen)**2)\n",
        "\n",
        "print(p1_err,p2_err,p3_err,p4_err,p5_err, sep=\"\\n\")"
      ],
      "metadata": {
        "colab": {
          "base_uri": "https://localhost:8080/"
        },
        "outputId": "b29d8c8c-9ba2-4bac-af8d-da4e92b6ba55",
        "id": "Zj82-HhBcOIE"
      },
      "execution_count": null,
      "outputs": [
        {
          "output_type": "stream",
          "name": "stdout",
          "text": [
            "8.46855519606619\n",
            "8.479347800780262\n",
            "7.840873225415616\n",
            "10.367436506388056\n",
            "12.37580833528768\n"
          ]
        }
      ]
    },
    {
      "cell_type": "markdown",
      "source": [
        "# Multi Output Regression Model"
      ],
      "metadata": {
        "id": "3lNLLQ950Hxm"
      }
    },
    {
      "cell_type": "markdown",
      "source": [
        "##Creation of Dataset"
      ],
      "metadata": {
        "id": "F7n2TKxOASWS"
      }
    },
    {
      "cell_type": "code",
      "source": [
        "dim_dataset = 1000\n",
        "model_input = np.empty((dim_dataset, 8))\n",
        "model_output = np.empty((dim_dataset, 6))\n",
        "\n",
        "for sample in range(dim_dataset):\n",
        "  x1, y1, x2, y2, x3, y3, x4, y4 = (rnd.SystemRandom().random() for x in range(8))\n",
        "  d12 = np.sqrt((x1-x2)**2 + (y1-y2)**2)\n",
        "  d13 = np.sqrt((x1-x3)**2 + (y1-y3)**2)\n",
        "  d14 = np.sqrt((x1-x4)**2 + (y1-y4)**2)\n",
        "  d23 = np.sqrt((x2-x3)**2 + (y2-y3)**2)\n",
        "  d24 = np.sqrt((x2-x4)**2 + (y2-y4)**2)\n",
        "  d34 = np.sqrt((x3-x4)**2 + (y3-y4)**2)\n",
        "  model_input[sample][:] = [x1, y1, d12, d13, d14, d23, d24, d34]\n",
        "  model_output[sample][:] = [x2, x3, x4, y2, y3, y4]\n"
      ],
      "metadata": {
        "id": "o7LUdsAg0Pjp"
      },
      "execution_count": 20,
      "outputs": []
    },
    {
      "cell_type": "code",
      "source": [
        "dim_test = 100\n",
        "model_input_test = np.empty((dim_test, 8))\n",
        "model_output_test = np.empty((dim_test, 6))\n",
        "\n",
        "for sample in range(dim_test):\n",
        "  x1, y1, x2, y2, x3, y3, x4, y4 = (rnd.SystemRandom().random() for x in range(8)) \n",
        "  d12 = np.sqrt((x1-x2)**2 + (y1-y2)**2)\n",
        "  d13 = np.sqrt((x1-x3)**2 + (y1-y3)**2)\n",
        "  d14 = np.sqrt((x1-x4)**2 + (y1-y4)**2)\n",
        "  d23 = np.sqrt((x2-x3)**2 + (y2-y3)**2)\n",
        "  d24 = np.sqrt((x2-x4)**2 + (y2-y4)**2)\n",
        "  d34 = np.sqrt((x3-x4)**2 + (y3-y4)**2)\n",
        "  model_input_test[sample][:] = [x1, y1, d12, d13, d14, d23, d24, d34]\n",
        "  model_output_test[sample][:] = [x2, x3, x4, y2, y3, y4]"
      ],
      "metadata": {
        "id": "Ps-2BHBuMT3i"
      },
      "execution_count": 21,
      "outputs": []
    },
    {
      "cell_type": "code",
      "source": [
        "np.all(model_input<1.0)\n",
        "plt.plot(model_output_test[0:,:3], model_output_test[0:,3:], 'o', color='black')"
      ],
      "metadata": {
        "id": "2uQ6Yp8QBCn4",
        "outputId": "28011789-3ecb-4afe-aed4-dedfe1ad292d",
        "colab": {
          "base_uri": "https://localhost:8080/",
          "height": 314
        }
      },
      "execution_count": 22,
      "outputs": [
        {
          "output_type": "execute_result",
          "data": {
            "text/plain": [
              "[<matplotlib.lines.Line2D at 0x7f126ad42d10>,\n",
              " <matplotlib.lines.Line2D at 0x7f126ad42450>,\n",
              " <matplotlib.lines.Line2D at 0x7f126ad427d0>]"
            ]
          },
          "metadata": {},
          "execution_count": 22
        },
        {
          "output_type": "display_data",
          "data": {
            "text/plain": [
              "<Figure size 432x288 with 1 Axes>"
            ],
            "image/png": "[encoded data removed]"
          },
          "metadata": {}
        }
      ]
    },
    {
      "cell_type": "markdown",
      "source": [
        "## Simple MLP"
      ],
      "metadata": {
        "id": "p4AaJDIa-Au7"
      }
    },
    {
      "cell_type": "code",
      "source": [
        "# use mlp for prediction on multi-output regression\n",
        "from numpy import asarray\n",
        "from sklearn.datasets import make_regression\n",
        "from keras.models import Sequential\n",
        "from keras.layers import Dense\n",
        "\n",
        "# get the model\n",
        "def get_model(n_inputs, n_outputs):\n",
        "  model = Sequential()\n",
        "  model.add(Dense(30, input_dim=n_inputs, kernel_initializer='he_uniform', activation='selu'))\n",
        "  model.add(Dense(30, kernel_initializer='he_uniform', activation='selu'))\n",
        "  model.add(Dense(n_outputs, kernel_initializer='he_uniform'))\n",
        "  model.compile(loss='mae', optimizer='adam')\n",
        "  return model\n",
        "\n",
        "X, y = (model_input, model_output)\n",
        "n_inputs, n_outputs = X.shape[1], y.shape[1]\n",
        "# get model\n",
        "model = get_model(n_inputs, n_outputs)\n",
        "# fit the model on all data\n",
        "model.fit(X, y, epochs=50)\n",
        "# make a prediction for new data\n",
        "row = model_input_test[0][:]\n",
        "newX = asarray([row])\n",
        "yhat = model.predict(newX)\n",
        "print('Predicted: %s' % yhat[0])"
      ],
      "metadata": {
        "id": "o_LaTddH0WDd",
        "outputId": "920d978f-55fb-4806-855d-c00fb16b7e0e",
        "colab": {
          "base_uri": "https://localhost:8080/"
        }
      },
      "execution_count": 23,
      "outputs": [
        {
          "output_type": "stream",
          "name": "stdout",
          "text": [
            "Epoch 1/50\n",
            "32/32 [==============================] - 1s 2ms/step - loss: 0.9554\n",
            "Epoch 2/50\n",
            "32/32 [==============================] - 0s 2ms/step - loss: 0.4166\n",
            "Epoch 3/50\n",
            "32/32 [==============================] - 0s 2ms/step - loss: 0.3173\n",
            "Epoch 4/50\n",
            "32/32 [==============================] - 0s 2ms/step - loss: 0.2857\n",
            "Epoch 5/50\n",
            "32/32 [==============================] - 0s 2ms/step - loss: 0.2723\n",
            "Epoch 6/50\n",
            "32/32 [==============================] - 0s 2ms/step - loss: 0.2628\n",
            "Epoch 7/50\n",
            "32/32 [==============================] - 0s 2ms/step - loss: 0.2599\n",
            "Epoch 8/50\n",
            "32/32 [==============================] - 0s 2ms/step - loss: 0.2537\n",
            "Epoch 9/50\n",
            "32/32 [==============================] - 0s 7ms/step - loss: 0.2521\n",
            "Epoch 10/50\n",
            "32/32 [==============================] - 0s 2ms/step - loss: 0.2487\n",
            "Epoch 11/50\n",
            "32/32 [==============================] - 0s 2ms/step - loss: 0.2480\n",
            "Epoch 12/50\n",
            "32/32 [==============================] - 0s 2ms/step - loss: 0.2449\n",
            "Epoch 13/50\n",
            "32/32 [==============================] - 0s 2ms/step - loss: 0.2432\n",
            "Epoch 14/50\n",
            "32/32 [==============================] - 0s 2ms/step - loss: 0.2410\n",
            "Epoch 15/50\n",
            "32/32 [==============================] - 0s 2ms/step - loss: 0.2403\n",
            "Epoch 16/50\n",
            "32/32 [==============================] - 0s 2ms/step - loss: 0.2401\n",
            "Epoch 17/50\n",
            "32/32 [==============================] - 0s 2ms/step - loss: 0.2365\n",
            "Epoch 18/50\n",
            "32/32 [==============================] - 0s 2ms/step - loss: 0.2366\n",
            "Epoch 19/50\n",
            "32/32 [==============================] - 0s 7ms/step - loss: 0.2358\n",
            "Epoch 20/50\n",
            "32/32 [==============================] - 0s 2ms/step - loss: 0.2338\n",
            "Epoch 21/50\n",
            "32/32 [==============================] - 0s 2ms/step - loss: 0.2312\n",
            "Epoch 22/50\n",
            "32/32 [==============================] - 0s 2ms/step - loss: 0.2317\n",
            "Epoch 23/50\n",
            "32/32 [==============================] - 0s 2ms/step - loss: 0.2299\n",
            "Epoch 24/50\n",
            "32/32 [==============================] - 0s 2ms/step - loss: 0.2282\n",
            "Epoch 25/50\n",
            "32/32 [==============================] - 0s 2ms/step - loss: 0.2280\n",
            "Epoch 26/50\n",
            "32/32 [==============================] - 0s 2ms/step - loss: 0.2273\n",
            "Epoch 27/50\n",
            "32/32 [==============================] - 0s 2ms/step - loss: 0.2251\n",
            "Epoch 28/50\n",
            "32/32 [==============================] - 0s 2ms/step - loss: 0.2253\n",
            "Epoch 29/50\n",
            "32/32 [==============================] - 0s 2ms/step - loss: 0.2264\n",
            "Epoch 30/50\n",
            "32/32 [==============================] - 0s 2ms/step - loss: 0.2244\n",
            "Epoch 31/50\n",
            "32/32 [==============================] - 0s 2ms/step - loss: 0.2241\n",
            "Epoch 32/50\n",
            "32/32 [==============================] - 0s 2ms/step - loss: 0.2211\n",
            "Epoch 33/50\n",
            "32/32 [==============================] - 0s 2ms/step - loss: 0.2228\n",
            "Epoch 34/50\n",
            "32/32 [==============================] - 0s 2ms/step - loss: 0.2205\n",
            "Epoch 35/50\n",
            "32/32 [==============================] - 0s 2ms/step - loss: 0.2198\n",
            "Epoch 36/50\n",
            "32/32 [==============================] - 0s 2ms/step - loss: 0.2191\n",
            "Epoch 37/50\n",
            "32/32 [==============================] - 1s 40ms/step - loss: 0.2198\n",
            "Epoch 38/50\n",
            "32/32 [==============================] - 1s 10ms/step - loss: 0.2183\n",
            "Epoch 39/50\n",
            "32/32 [==============================] - 0s 2ms/step - loss: 0.2171\n",
            "Epoch 40/50\n",
            "32/32 [==============================] - 0s 2ms/step - loss: 0.2196\n",
            "Epoch 41/50\n",
            "32/32 [==============================] - 0s 2ms/step - loss: 0.2164\n",
            "Epoch 42/50\n",
            "32/32 [==============================] - 0s 2ms/step - loss: 0.2178\n",
            "Epoch 43/50\n",
            "32/32 [==============================] - 0s 2ms/step - loss: 0.2165\n",
            "Epoch 44/50\n",
            "32/32 [==============================] - 0s 2ms/step - loss: 0.2161\n",
            "Epoch 45/50\n",
            "32/32 [==============================] - 0s 2ms/step - loss: 0.2152\n",
            "Epoch 46/50\n",
            "32/32 [==============================] - 0s 2ms/step - loss: 0.2160\n",
            "Epoch 47/50\n",
            "32/32 [==============================] - 0s 2ms/step - loss: 0.2149\n",
            "Epoch 48/50\n",
            "32/32 [==============================] - 0s 2ms/step - loss: 0.2153\n",
            "Epoch 49/50\n",
            "32/32 [==============================] - 0s 3ms/step - loss: 0.2138\n",
            "Epoch 50/50\n",
            "32/32 [==============================] - 0s 4ms/step - loss: 0.2118\n",
            "Predicted: [0.43888456 0.56372935 0.37038672 0.4485572  0.55207425 0.47780505]\n"
          ]
        }
      ]
    },
    {
      "cell_type": "code",
      "source": [
        "plt.plot(model_output_test[0][:3], model_output_test[0][3:], 'o', color='black') # intial points\n",
        "plt.plot(yhat[0][:3], yhat[0][3:], 'v', color='red') # calculated points"
      ],
      "metadata": {
        "id": "FbhGVaWYBV9D",
        "outputId": "4c457642-3b1d-4288-b607-ed4939ee91b8",
        "colab": {
          "base_uri": "https://localhost:8080/",
          "height": 279
        }
      },
      "execution_count": 24,
      "outputs": [
        {
          "output_type": "execute_result",
          "data": {
            "text/plain": [
              "[<matplotlib.lines.Line2D at 0x7f1267824210>]"
            ]
          },
          "metadata": {},
          "execution_count": 24
        },
        {
          "output_type": "display_data",
          "data": {
            "text/plain": [
              "<Figure size 432x288 with 1 Axes>"
            ],
            "image/png": "[encoded data removed]"
          },
          "metadata": {}
        }
      ]
    },
    {
      "cell_type": "markdown",
      "source": [
        "## LSTM model"
      ],
      "metadata": {
        "id": "KTGWphuB-N_l"
      }
    },
    {
      "cell_type": "code",
      "source": [
        "from keras.models import Sequential\n",
        "from keras.layers import Dense, LSTM\n",
        "from numpy import array\n",
        "from numpy.random import uniform\n",
        "from numpy import hstack\n",
        "import matplotlib.pyplot as plt\n",
        "from sklearn.model_selection import train_test_split\n",
        "from sklearn.metrics import mean_squared_error\n",
        "\n",
        "def create_data(n):\n",
        " x1 = array([i/100+uniform(-1,3) for i in range(n)]).reshape(n,1)\n",
        " x2 = array([i/100+uniform(-3,5)+2 for i in range(n)]).reshape(n,1)\n",
        " x3 = array([i/100+uniform(-6,5)-3 for i in range(n)]).reshape(n,1)\n",
        "\n",
        " y1= [x1[i]-x2[i]+x3[i]+uniform(-2,2) for i in range(n)]\n",
        " y2= [x1[i]+x2[i]-x3[i]+5+uniform(-1,3) for i in range(n)]\n",
        " X = hstack((x1, x2, x3))\n",
        " Y = hstack((y1, y2))\n",
        " return X, Y\n",
        "\n",
        "#x, y = create_data(n=400)\n",
        "x, y= model_input, model_output\n",
        "plt.plot(y)\n",
        "plt.show()\n",
        "\n",
        "print(x.shape)\n",
        "\n",
        "x = x.reshape(x.shape[0], x.shape[1], 1)\n",
        "print(\"x:\", x.shape, \"y:\", y.shape)\n",
        "\n",
        "in_dim = (x.shape[1], x.shape[2])\n",
        "out_dim = y.shape[1]\n",
        "print(in_dim)\n",
        "print(out_dim)\n",
        "\n",
        "xtrain, xtest, ytrain, ytest=train_test_split(x, y, test_size=0.15)\n",
        "print(\"xtrain:\", xtrain.shape, \"ytrian:\", ytrain.shape)\n",
        "\n",
        "model = Sequential()\n",
        "model.add(LSTM(64, input_shape=in_dim, activation=\"relu\",return_sequences=True))\n",
        "model.add(LSTM(32, activation=\"relu\",return_sequences=True))\n",
        "model.add(LSTM(16, activation=\"relu\"))\n",
        "model.add(Dense(out_dim))\n",
        "model.compile(loss=\"mse\", optimizer=\"adam\")\n",
        "model.summary()\n",
        "\n",
        "model.fit(xtrain, ytrain, epochs=10, batch_size=2, verbose=1)\n",
        "\n",
        "ypred = model.predict(xtest)\n",
        "print(\"y1 MSE:%.4f\" % mean_squared_error(ytest[:,0], ypred[:,0]))\n",
        "print(\"y2 MSE:%.4f\" % mean_squared_error(ytest[:,1], ypred[:,1]))\n",
        "\n",
        "x_ax = range(len(xtest))\n",
        "plt.title(\"LSTM multi-output prediction\")\n",
        "plt.scatter(x_ax, ytest[:,0],  s=6, label=\"y1-test\")\n",
        "plt.plot(x_ax, ypred[:,0], label=\"y1-pred\")\n",
        "plt.scatter(x_ax, ytest[:,1],  s=6, label=\"y2-test\")\n",
        "plt.plot(x_ax, ypred[:,1], label=\"y2-pred\")\n",
        "plt.legend()\n",
        "plt.show()"
      ],
      "metadata": {
        "id": "bi5f9K6L-WP3",
        "outputId": "a7f97fff-69fd-4c87-9e78-bc3ae13d9d3c",
        "colab": {
          "base_uri": "https://localhost:8080/",
          "height": 1000
        }
      },
      "execution_count": 18,
      "outputs": [
        {
          "output_type": "display_data",
          "data": {
            "text/plain": [
              "<Figure size 432x288 with 1 Axes>"
            ],
            "image/png": "[encoded data removed]"
          },
          "metadata": {}
        },
        {
          "output_type": "stream",
          "name": "stdout",
          "text": [
            "(1000, 8)\n",
            "x: (1000, 8, 1) y: (1000, 6)\n",
            "(8, 1)\n",
            "6\n",
            "xtrain: (850, 8, 1) ytrian: (850, 6)\n",
            "Model: \"sequential_9\"\n",
            "_________________________________________________________________\n",
            " Layer (type)                Output Shape              Param #   \n",
            "=================================================================\n",
            " lstm_23 (LSTM)              (None, 8, 64)             16896     \n",
            "                                                                 \n",
            " lstm_24 (LSTM)              (None, 8, 32)             12416     \n",
            "                                                                 \n",
            " lstm_25 (LSTM)              (None, 16)                3136      \n",
            "                                                                 \n",
            " dense_9 (Dense)             (None, 6)                 102       \n",
            "                                                                 \n",
            "=================================================================\n",
            "Total params: 32,550\n",
            "Trainable params: 32,550\n",
            "Non-trainable params: 0\n",
            "_________________________________________________________________\n",
            "Epoch 1/10\n",
            "425/425 [==============================] - 16s 14ms/step - loss: 0.1092\n",
            "Epoch 2/10\n",
            "425/425 [==============================] - 5s 13ms/step - loss: 0.0861\n",
            "Epoch 3/10\n",
            "425/425 [==============================] - 6s 15ms/step - loss: 0.0852\n",
            "Epoch 4/10\n",
            "425/425 [==============================] - 5s 12ms/step - loss: 0.0850\n",
            "Epoch 5/10\n",
            "425/425 [==============================] - 6s 14ms/step - loss: 0.0849\n",
            "Epoch 6/10\n",
            "425/425 [==============================] - 6s 14ms/step - loss: 0.0845\n",
            "Epoch 7/10\n",
            "425/425 [==============================] - 5s 13ms/step - loss: 0.0843\n",
            "Epoch 8/10\n",
            "425/425 [==============================] - 6s 15ms/step - loss: 0.0835\n",
            "Epoch 9/10\n",
            "425/425 [==============================] - 5s 11ms/step - loss: 0.0834\n",
            "Epoch 10/10\n",
            "425/425 [==============================] - 7s 17ms/step - loss: 0.0831\n",
            "y1 MSE:0.0915\n",
            "y2 MSE:0.0787\n"
          ]
        },
        {
          "output_type": "display_data",
          "data": {
            "text/plain": [
              "<Figure size 432x288 with 1 Axes>"
            ],
            "image/png": "[encoded data removed]"
          },
          "metadata": {}
        }
      ]
    },
    {
      "cell_type": "code",
      "source": [
        "plt.plot(ytest[0][:3], ytest[0][3:], 'o', color='black') # intial points\n",
        "plt.plot(ypred[0][:3], ypred[0][3:], 'v', color='red') # calculated points"
      ],
      "metadata": {
        "id": "OpOlvi-LIE57",
        "outputId": "23769a87-2223-4588-f8c9-f3c373adc250",
        "colab": {
          "base_uri": "https://localhost:8080/",
          "height": 279
        }
      },
      "execution_count": 19,
      "outputs": [
        {
          "output_type": "execute_result",
          "data": {
            "text/plain": [
              "[<matplotlib.lines.Line2D at 0x7f1265af1ed0>]"
            ]
          },
          "metadata": {},
          "execution_count": 19
        },
        {
          "output_type": "display_data",
          "data": {
            "text/plain": [
              "<Figure size 432x288 with 1 Axes>"
            ],
            "image/png": "[encoded data removed]"
          },
          "metadata": {}
        }
      ]
    }
  ]
}