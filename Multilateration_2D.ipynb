{
  "nbformat": 4,
  "nbformat_minor": 0,
  "metadata": {
    "colab": {
      "provenance": [],
      "collapsed_sections": [
        "_vtFN_2OJBgC"
      ],
      "authorship_tag": "ABX9TyP4VP0D2H9FJzZGwXZvfDLj",
      "include_colab_link": true
    },
    "kernelspec": {
      "name": "python3",
      "display_name": "Python 3"
    },
    "language_info": {
      "name": "python"
    }
  },
  "cells": [
    {
      "cell_type": "markdown",
      "metadata": {
        "id": "view-in-github",
        "colab_type": "text"
      },
      "source": [
        "<a href=\"https://colab.research.google.com/github/PeriniM/Multilateration/blob/main/Multilateration_2D.ipynb\" target=\"_parent\"><img src=\"https://colab.research.google.com/assets/colab-badge.svg\" alt=\"Open In Colab\"/></a>"
      ]
    },
    {
      "cell_type": "code",
      "execution_count": 249,
      "metadata": {
        "id": "rNSUQnZq2KaK"
      },
      "outputs": [],
      "source": [
        "%reset -f\n",
        "from scipy.optimize import fsolve\n",
        "import random as rnd\n",
        "import matplotlib.pyplot as plt\n",
        "plt.style.use('seaborn-whitegrid')\n",
        "import numpy as np"
      ]
    },
    {
      "cell_type": "code",
      "source": [
        "x1, y1, x2_gen, y2_gen, x3_gen, y3_gen, x4_gen, y4_gen, x5_gen, y5_gen = (rnd.random()*10.0 for x in range(10))"
      ],
      "metadata": {
        "id": "IirSnbvwK6cx"
      },
      "execution_count": 284,
      "outputs": []
    },
    {
      "cell_type": "markdown",
      "source": [
        "# Multirateration 4 points in a plane (1 known)"
      ],
      "metadata": {
        "id": "iyQ1XtZO5OIS"
      }
    },
    {
      "cell_type": "code",
      "source": [
        "plt.plot([x1, x2_gen, x3_gen, x4_gen], [y1, y2_gen, y3_gen, y4_gen], 'o', color='black');"
      ],
      "metadata": {
        "colab": {
          "base_uri": "https://localhost:8080/",
          "height": 262
        },
        "id": "E2adlB4n5MdU",
        "outputId": "2899ed2b-93c4-46b5-cad6-faa278f41986"
      },
      "execution_count": 285,
      "outputs": [
        {
          "output_type": "display_data",
          "data": {
            "text/plain": [
              "<Figure size 432x288 with 1 Axes>"
            ],
            "image/png": "[encoded data removed]"
          },
          "metadata": {}
        }
      ]
    },
    {
      "cell_type": "code",
      "source": [
        "d12 = np.sqrt((x1-x2_gen)**2 + (y1-y2_gen)**2)\n",
        "d13 = np.sqrt((x1-x3_gen)**2 + (y1-y3_gen)**2)\n",
        "d14 = np.sqrt((x1-x4_gen)**2 + (y1-y4_gen)**2)\n",
        "d23 = np.sqrt((x2_gen-x3_gen)**2 + (y2_gen-y3_gen)**2)\n",
        "d24 = np.sqrt((x2_gen-x4_gen)**2 + (y2_gen-y4_gen)**2)\n",
        "d34 = np.sqrt((x3_gen-x4_gen)**2 + (y3_gen-y4_gen)**2)"
      ],
      "metadata": {
        "id": "9WrKCdnRAhgw"
      },
      "execution_count": 286,
      "outputs": []
    },
    {
      "cell_type": "code",
      "source": [
        "print(d12,d13,d14,d23,d24,d34, sep=\"\\n\")"
      ],
      "metadata": {
        "colab": {
          "base_uri": "https://localhost:8080/"
        },
        "id": "czBUKtD19hFk",
        "outputId": "fbde169a-7b2b-4760-f071-fd6115a99d8a"
      },
      "execution_count": 287,
      "outputs": [
        {
          "output_type": "stream",
          "name": "stdout",
          "text": [
            "1.2183369019989758\n",
            "2.9736167666427766\n",
            "4.3995322651439075\n",
            "3.4750555118905453\n",
            "3.9478242385764335\n",
            "3.027104123944632\n"
          ]
        }
      ]
    },
    {
      "cell_type": "code",
      "source": [
        "def equations(vars): \n",
        "    x2, y2, x3, y3, x4, y4 = vars\n",
        "    eq1 = (x1-x2)**2 + (y1-y2)**2 - d12**2\n",
        "    eq2 = (x1-x3)**2 + (y1-y3)**2 - d13**2\n",
        "    eq3 = (x1-x4)**2 + (y1-y4)**2 - d14**2\n",
        "\n",
        "    eq4 = (x2-x3)**2 + (y2-y3)**2 - d23**2\n",
        "    eq5 = (x2-x4)**2 + (y2-y4)**2 - d24**2\n",
        "\n",
        "    eq6 = (x3-x4)**2 + (y3-y4)**2 - d34**2\n",
        "    return [eq1, eq2, eq3, eq4, eq5, eq6]"
      ],
      "metadata": {
        "id": "5RxZJscE2PWT"
      },
      "execution_count": 288,
      "outputs": []
    },
    {
      "cell_type": "code",
      "source": [
        "\n",
        "x2, y2, x3, y3, x4, y4 =  fsolve(equations, [1,1,1,1,1,1])\n",
        "\n",
        "print(x2, y2, x3, y3, x4, y4, sep=\"\\n\")"
      ],
      "metadata": {
        "colab": {
          "base_uri": "https://localhost:8080/"
        },
        "id": "YrSk7Hjk2Q5L",
        "outputId": "09405faf-874b-40dc-bf59-2d4907fc2bb3"
      },
      "execution_count": 289,
      "outputs": [
        {
          "output_type": "stream",
          "name": "stdout",
          "text": [
            "3.793283808295135\n",
            "4.453845071442704\n",
            "3.5518332304985223\n",
            "0.9871878300731094\n",
            "6.517051753528908\n",
            "1.5961529257971572\n"
          ]
        }
      ]
    },
    {
      "cell_type": "markdown",
      "source": [
        "***Actual positions vs predicted positions***"
      ],
      "metadata": {
        "id": "pZ9e1HYdUt7o"
      }
    },
    {
      "cell_type": "code",
      "source": [
        "plt.plot([x1, x2_gen, x3_gen, x4_gen], [y1, y2_gen, y3_gen, y4_gen], 'o', color='black'); # intial points\n",
        "plt.plot([x1, x2, x3, x4], [y1, y2, y3, y4], 'v', color='red'); # calculated points"
      ],
      "metadata": {
        "colab": {
          "base_uri": "https://localhost:8080/",
          "height": 262
        },
        "id": "jOmaXVJQ3sLY",
        "outputId": "7f2516f7-a333-4057-c325-cbb26dcacade"
      },
      "execution_count": 290,
      "outputs": [
        {
          "output_type": "display_data",
          "data": {
            "text/plain": [
              "<Figure size 432x288 with 1 Axes>"
            ],
            "image/png": "[encoded data removed]"
          },
          "metadata": {}
        }
      ]
    },
    {
      "cell_type": "markdown",
      "source": [
        "***Distance Error***"
      ],
      "metadata": {
        "id": "CzfmjJhIUpxW"
      }
    },
    {
      "cell_type": "markdown",
      "source": [
        "We notice that fsolve is able to give the correct distances to all the points but fails in the orientation"
      ],
      "metadata": {
        "id": "3Zt4_RaaXzeh"
      }
    },
    {
      "cell_type": "code",
      "source": [
        "d12_pred = np.sqrt((x1-x2)**2 + (y1-y2)**2)\n",
        "d13_pred = np.sqrt((x1-x3)**2 + (y1-y3)**2)\n",
        "d14_pred = np.sqrt((x1-x4)**2 + (y1-y4)**2)\n",
        "d23_pred = np.sqrt((x2-x3)**2 + (y2-y3)**2)\n",
        "d24_pred = np.sqrt((x2-x4)**2 + (y2-y4)**2)\n",
        "d34_pred = np.sqrt((x3-x4)**2 + (y3-y4)**2)\n",
        "err_d12 = np.abs(d12_pred-d12)\n",
        "err_d13 = np.abs(d13_pred-d13)\n",
        "err_d14 = np.abs(d14_pred-d14)\n",
        "err_d23 = np.abs(d23_pred-d23)\n",
        "err_d24 = np.abs(d24_pred-d24)\n",
        "err_d34 = np.abs(d34_pred-d34)\n",
        "print(err_d12,err_d13,err_d14,err_d23,err_d24,err_d34, sep=\"\\n\")"
      ],
      "metadata": {
        "colab": {
          "base_uri": "https://localhost:8080/"
        },
        "id": "JhseUghKUs_3",
        "outputId": "3c63f420-c4de-46ac-b3b3-e974dadc7b26"
      },
      "execution_count": 291,
      "outputs": [
        {
          "output_type": "stream",
          "name": "stdout",
          "text": [
            "8.529843498195078e-12\n",
            "3.4345859489803843e-12\n",
            "3.1734614935885475e-12\n",
            "8.963496611613664e-12\n",
            "9.582556970144651e-12\n",
            "1.1544987188472078e-11\n"
          ]
        }
      ]
    },
    {
      "cell_type": "markdown",
      "source": [
        "The predicted positions differ from the actual ones"
      ],
      "metadata": {
        "id": "bMIhLspNaJxQ"
      }
    },
    {
      "cell_type": "code",
      "source": [
        "p1_err = np.sqrt((x1-x1)**2 + (y1-y1)**2)\n",
        "p2_err = np.sqrt((x2-x2_gen)**2 + (y2-y2_gen)**2)\n",
        "p3_err = np.sqrt((x3-x3_gen)**2 + (y3-y3_gen)**2)\n",
        "p4_err = np.sqrt((x4-x4_gen)**2 + (y4-y4_gen)**2)\n",
        "\n",
        "print(p1_err,p2_err,p3_err,p4_err, sep=\"\\n\")"
      ],
      "metadata": {
        "colab": {
          "base_uri": "https://localhost:8080/"
        },
        "id": "vutYH5BkWm9i",
        "outputId": "6c88b4ca-c05b-4da5-f8fe-345a75337464"
      },
      "execution_count": 292,
      "outputs": [
        {
          "output_type": "stream",
          "name": "stdout",
          "text": [
            "0.0\n",
            "0.9021684482195196\n",
            "5.892765459588392\n",
            "5.527442274134125\n"
          ]
        }
      ]
    },
    {
      "cell_type": "markdown",
      "source": [
        "# Multilateration 5 points in a plane (0 known, just relative positions)"
      ],
      "metadata": {
        "id": "_vtFN_2OJBgC"
      }
    },
    {
      "cell_type": "code",
      "source": [
        "x1_gen , y1_gen = (x1, y1)\n",
        "plt.plot([x1_gen, x2_gen, x3_gen, x4_gen, x5_gen], [y1_gen, y2_gen, y3_gen, y4_gen,y5_gen], 'o', color='black');\n"
      ],
      "metadata": {
        "colab": {
          "base_uri": "https://localhost:8080/",
          "height": 262
        },
        "id": "ysEF5ynoLTbr",
        "outputId": "d4cc9f23-493f-4c81-ef01-0b389fb40838"
      },
      "execution_count": 268,
      "outputs": [
        {
          "output_type": "display_data",
          "data": {
            "text/plain": [
              "<Figure size 432x288 with 1 Axes>"
            ],
            "image/png": "[encoded data removed]"
          },
          "metadata": {}
        }
      ]
    },
    {
      "cell_type": "code",
      "source": [
        "d12 = np.sqrt((x1_gen-x2_gen)**2 + (y1_gen-y2_gen)**2)\n",
        "d13 = np.sqrt((x1_gen-x3_gen)**2 + (y1_gen-y3_gen)**2)\n",
        "d14 = np.sqrt((x1_gen-x4_gen)**2 + (y1_gen-y4_gen)**2)\n",
        "d23 = np.sqrt((x2_gen-x3_gen)**2 + (y2_gen-y3_gen)**2)\n",
        "d24 = np.sqrt((x2_gen-x4_gen)**2 + (y2_gen-y4_gen)**2)\n",
        "d34 = np.sqrt((x3_gen-x4_gen)**2 + (y3_gen-y4_gen)**2)\n",
        "\n",
        "d15 = np.sqrt((x1_gen-x5_gen)**2 + (y1_gen-y5_gen)**2)\n",
        "d25 = np.sqrt((x2_gen-x5_gen)**2 + (y2_gen-y5_gen)**2)\n",
        "d35 = np.sqrt((x3_gen-x5_gen)**2 + (y3_gen-y5_gen)**2)\n",
        "d45 = np.sqrt((x4_gen-x5_gen)**2 + (y4_gen-y5_gen)**2)"
      ],
      "metadata": {
        "id": "rCkdOU7_LcT5"
      },
      "execution_count": 269,
      "outputs": []
    },
    {
      "cell_type": "code",
      "source": [
        "print(d12,d13,d14,d23,d24,d34,d15,d25,d35,d45, sep=\"\\n\")"
      ],
      "metadata": {
        "colab": {
          "base_uri": "https://localhost:8080/"
        },
        "id": "stljrG-fL_Ng",
        "outputId": "539a5923-a076-45b5-9411-5e2d5121ff24"
      },
      "execution_count": 270,
      "outputs": [
        {
          "output_type": "stream",
          "name": "stdout",
          "text": [
            "4.838735314160689\n",
            "5.367060274722131\n",
            "2.0346344264635774\n",
            "1.8653768209964223\n",
            "5.669833008072849\n",
            "5.512430739067212\n",
            "7.337413314327337\n",
            "7.221194169699947\n",
            "5.5722866345514355\n",
            "5.769025085038334\n"
          ]
        }
      ]
    },
    {
      "cell_type": "code",
      "source": [
        "def equations(vars): \n",
        "    x1, y1, x2, y2, x3, y3, x4, y4, x5, y5 = vars\n",
        "    eq1 = (x1-x2)**2 + (y1-y2)**2 - d12**2\n",
        "    eq2 = (x1-x3)**2 + (y1-y3)**2 - d13**2\n",
        "    eq3 = (x1-x4)**2 + (y1-y4)**2 - d14**2\n",
        "\n",
        "    eq4 = (x2-x3)**2 + (y2-y3)**2 - d23**2\n",
        "    eq5 = (x2-x4)**2 + (y2-y4)**2 - d24**2\n",
        "\n",
        "    eq6 = (x3-x4)**2 + (y3-y4)**2 - d34**2\n",
        "\n",
        "    eq7 = (x1-x5)**2 + (y1-y5)**2 - d15**2\n",
        "    eq8 = (x2-x5)**2 + (y2-y5)**2 - d25**2\n",
        "    eq9 = (x3-x5)**2 + (y3-y5)**2 - d35**2\n",
        "    eq10 = (x4-x5)**2 + (y4-y5)**2 - d45**2\n",
        "    return [eq1, eq2, eq3, eq4, eq5, eq6, eq7, eq8, eq9, eq10]"
      ],
      "metadata": {
        "id": "3bjceOg8MFeA"
      },
      "execution_count": 271,
      "outputs": []
    },
    {
      "cell_type": "code",
      "source": [
        "x1, y1, x2, y2, x3, y3, x4, y4, x5, y5 =  fsolve(equations, [1,1,1,1,1,1,1,1,1,1])\n",
        "\n",
        "print(x1, y1, x2, y2, x3, y3, x4, y4, x5, y5, sep=\"\\n\")"
      ],
      "metadata": {
        "colab": {
          "base_uri": "https://localhost:8080/"
        },
        "id": "EOOd5f0MOejv",
        "outputId": "ef0515d8-cf23-4a8f-d31f-298bbf5f27d5"
      },
      "execution_count": 272,
      "outputs": [
        {
          "output_type": "stream",
          "name": "stdout",
          "text": [
            "-2.56486539255827\n",
            "-4.500143045979351\n",
            "2.0318414753028113\n",
            "-2.9889695245561536\n",
            "1.64027218343008\n",
            "-1.1651536966742404\n",
            "-3.633718025218855\n",
            "-2.7688743495939945\n",
            "-2.2439442978955606\n",
            "2.8302487441763136\n"
          ]
        }
      ]
    },
    {
      "cell_type": "code",
      "source": [
        "plt.plot([x1_gen, x2_gen, x3_gen, x4_gen, x5_gen], [y1_gen, y2_gen, y3_gen, y4_gen,y5_gen], 'o', color='black');\n",
        "plt.plot([x1, x2, x3, x4, x5], [y1, y2, y3, y4, y5], 'v', color='red'); # calculated points"
      ],
      "metadata": {
        "colab": {
          "base_uri": "https://localhost:8080/",
          "height": 262
        },
        "id": "gNxCbu4CQC2d",
        "outputId": "be56c6ed-a429-4d31-c530-b61011f635e5"
      },
      "execution_count": 273,
      "outputs": [
        {
          "output_type": "display_data",
          "data": {
            "text/plain": [
              "<Figure size 432x288 with 1 Axes>"
            ],
            "image/png": "[encoded data removed]"
          },
          "metadata": {}
        }
      ]
    },
    {
      "cell_type": "markdown",
      "source": [
        "***Distance Error***"
      ],
      "metadata": {
        "id": "bq7MQLzab7pF"
      }
    },
    {
      "cell_type": "code",
      "source": [
        "p1_err = np.sqrt((x1-x1_gen)**2 + (y1-y1_gen)**2)\n",
        "p2_err = np.sqrt((x2-x2_gen)**2 + (y2-y2_gen)**2)\n",
        "p3_err = np.sqrt((x3-x3_gen)**2 + (y3-y3_gen)**2)\n",
        "p4_err = np.sqrt((x4-x4_gen)**2 + (y4-y4_gen)**2)\n",
        "p5_err = np.sqrt((x5-x5_gen)**2 + (y5-y5_gen)**2)\n",
        "\n",
        "print(p1_err,p2_err,p3_err,p4_err,p5_err, sep=\"\\n\")"
      ],
      "metadata": {
        "colab": {
          "base_uri": "https://localhost:8080/"
        },
        "outputId": "b29d8c8c-9ba2-4bac-af8d-da4e92b6ba55",
        "id": "Zj82-HhBcOIE"
      },
      "execution_count": 274,
      "outputs": [
        {
          "output_type": "stream",
          "name": "stdout",
          "text": [
            "8.46855519606619\n",
            "8.479347800780262\n",
            "7.840873225415616\n",
            "10.367436506388056\n",
            "12.37580833528768\n"
          ]
        }
      ]
    }
  ]
}